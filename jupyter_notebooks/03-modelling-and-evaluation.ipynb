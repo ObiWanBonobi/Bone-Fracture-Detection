{
 "cells": [
  {
   "cell_type": "markdown",
   "metadata": {},
   "source": [
    "# Modeling and Evaluation"
   ]
  },
  {
   "cell_type": "markdown",
   "metadata": {},
   "source": [
    "### Objectives\n",
    "\n",
    "- Answer business requirement 2:\n",
    "    - The client is interested to tell whether a given x-ray image contains a fractured bone or not.\n",
    "\n",
    "### Inputs\n",
    "- inputs/fracture_dataset/bone_fracture/bone_fracture/train\n",
    "- inputs/fracture_dataset/bone_fracture/bone_fracture/val\n",
    "- inputs/fracture_dataset/bone_fracture/bone_fracture/test\n",
    "- image shape embeddings\n",
    "\n",
    "### Outputs\n",
    "- Images distribution plot in train, validation, and test set\n",
    "- Image augmentation\n",
    "- Class indices to change prediction inference in labels\n",
    "- Machine learning model creation and training\n",
    "- Save model\n",
    "- Learning curve plot for model performance\n",
    "- Model evaluation on pickle file\n",
    "- Prediction on the random image file"
   ]
  },
  {
   "cell_type": "markdown",
   "metadata": {},
   "source": [
    "---"
   ]
  },
  {
   "cell_type": "markdown",
   "metadata": {},
   "source": [
    "# Set Data Directory\n",
    "\n",
    "### Import packages"
   ]
  },
  {
   "cell_type": "code",
   "execution_count": 103,
   "metadata": {},
   "outputs": [],
   "source": [
    "import os\n",
    "import pandas as pd\n",
    "import numpy as np\n",
    "import matplotlib.pyplot as plt\n",
    "import seaborn as sns\n",
    "from matplotlib.image import imread"
   ]
  },
  {
   "cell_type": "markdown",
   "metadata": {},
   "source": [
    "### Set Working Directory"
   ]
  },
  {
   "cell_type": "code",
   "execution_count": 104,
   "metadata": {},
   "outputs": [
    {
     "data": {
      "text/plain": [
       "'/workspace/Bone-Fracture-Detection'"
      ]
     },
     "execution_count": 104,
     "metadata": {},
     "output_type": "execute_result"
    }
   ],
   "source": [
    "current_dir = os.getcwd()\n",
    "current_dir"
   ]
  },
  {
   "cell_type": "code",
   "execution_count": 105,
   "metadata": {},
   "outputs": [],
   "source": [
    "os.chdir('/workspace/Bone-Fracture-Detection')"
   ]
  },
  {
   "cell_type": "code",
   "execution_count": 106,
   "metadata": {},
   "outputs": [
    {
     "data": {
      "text/plain": [
       "'/workspace/Bone-Fracture-Detection'"
      ]
     },
     "execution_count": 106,
     "metadata": {},
     "output_type": "execute_result"
    }
   ],
   "source": [
    "work_dir = os.getcwd()\n",
    "work_dir"
   ]
  },
  {
   "cell_type": "markdown",
   "metadata": {},
   "source": [
    "### Set input directories"
   ]
  },
  {
   "cell_type": "code",
   "execution_count": 107,
   "metadata": {},
   "outputs": [],
   "source": [
    "parent_path = 'inputs/fracture_dataset/bone_fracture/bone_fracture'\n",
    "train_path = parent_path + '/train'\n",
    "val_path = parent_path + '/val'\n",
    "test_path = parent_path + '/test'"
   ]
  },
  {
   "cell_type": "markdown",
   "metadata": {},
   "source": [
    "### Set output directories"
   ]
  },
  {
   "cell_type": "code",
   "execution_count": 108,
   "metadata": {},
   "outputs": [
    {
     "name": "stdout",
     "output_type": "stream",
     "text": [
      "Old version is already available create a new version.\n"
     ]
    }
   ],
   "source": [
    "version = 'v5'\n",
    "file_path = f'outputs/{version}'\n",
    "\n",
    "\n",
    "if 'outputs' in os.listdir(work_dir) and version in os.listdir(work_dir + '/outputs'):\n",
    "\tprint('Old version is already available create a new version.')\n",
    "\tpass\n",
    "else:\n",
    "\tos.makedirs(name = file_path)"
   ]
  },
  {
   "cell_type": "markdown",
   "metadata": {},
   "source": [
    "### Set labels"
   ]
  },
  {
   "cell_type": "code",
   "execution_count": 109,
   "metadata": {},
   "outputs": [
    {
     "name": "stdout",
     "output_type": "stream",
     "text": [
      "Project Labels:  ['fractured', 'unfractured']\n"
     ]
    }
   ],
   "source": [
    "labels = os.listdir(train_path)\n",
    "print('Project Labels: ', labels)"
   ]
  },
  {
   "cell_type": "markdown",
   "metadata": {},
   "source": [
    "### Set image shape"
   ]
  },
  {
   "cell_type": "code",
   "execution_count": 110,
   "metadata": {},
   "outputs": [
    {
     "data": {
      "text/plain": [
       "(290, 273, 3)"
      ]
     },
     "execution_count": 110,
     "metadata": {},
     "output_type": "execute_result"
    }
   ],
   "source": [
    "import joblib\n",
    "\n",
    "\n",
    "image_shape = joblib.load(filename='outputs/v1/image_shape.pkl')\n",
    "image_shape"
   ]
  },
  {
   "cell_type": "markdown",
   "metadata": {},
   "source": [
    "---"
   ]
  },
  {
   "cell_type": "markdown",
   "metadata": {},
   "source": [
    "# Check if the datasets are imbalanced\n",
    "\n",
    "The datasets look balananced, so we can continue."
   ]
  },
  {
   "cell_type": "code",
   "execution_count": 111,
   "metadata": {},
   "outputs": [
    {
     "name": "stdout",
     "output_type": "stream",
     "text": [
      "* train - fractured: 4593 images\n",
      "* train - unfractured: 4625 images\n",
      "* val - fractured: 336 images\n",
      "* val - unfractured: 490 images\n",
      "* test - fractured: 237 images\n",
      "* test - unfractured: 267 images\n"
     ]
    },
    {
     "data": {
      "image/png": "[encoded data removed]",
      "text/plain": [
       "<Figure size 800x500 with 1 Axes>"
      ]
     },
     "metadata": {},
     "output_type": "display_data"
    }
   ],
   "source": [
    "df_freq = pd.DataFrame([]) \n",
    "for folder in ['train', 'val', 'test']:\n",
    "\tfor label in labels:\n",
    "\t\tdf_freq = df_freq.append(\n",
    "\t\t\t\tpd.Series(data={'Set': folder,\n",
    "\t\t\t\t\t\t\t\t'Label': label,\n",
    "\t\t\t\t\t\t\t\t'Frequency': int(len(os.listdir(parent_path + '/' + folder + '/' + label)))}\n",
    "\t\t\t\t\t\t),\n",
    "\t\t\t\t\t\tignore_index=True\n",
    "\t\t\t\t)\n",
    "\t\tprint(f\"* {folder} - {label}: {len(os.listdir(parent_path + '/' + folder + '/' + label))} images\")\n",
    "\n",
    "\n",
    "plt.figure(figsize=(8,5))\n",
    "sns.barplot(data=df_freq, x='Set', y='Frequency', hue='Label')\n",
    "plt.savefig(f'{file_path}/labels_distribution.png', bbox_inches='tight', dpi=150)\n",
    "plt.show()"
   ]
  },
  {
   "cell_type": "markdown",
   "metadata": {},
   "source": [
    "---"
   ]
  },
  {
   "cell_type": "markdown",
   "metadata": {},
   "source": [
    "# Image data augmentation\n",
    "\n",
    "The dataset contains enough images, so image augmentation isn't needed."
   ]
  },
  {
   "cell_type": "markdown",
   "metadata": {},
   "source": [
    "---"
   ]
  },
  {
   "cell_type": "markdown",
   "metadata": {},
   "source": [
    "# get image class"
   ]
  },
  {
   "cell_type": "code",
   "execution_count": 112,
   "metadata": {},
   "outputs": [],
   "source": [
    "from tensorflow.keras.preprocessing.image import ImageDataGenerator\n",
    "\n",
    "\n",
    "augmented_image_data = ImageDataGenerator(rescale=1./255)"
   ]
  },
  {
   "cell_type": "code",
   "execution_count": 113,
   "metadata": {},
   "outputs": [
    {
     "name": "stdout",
     "output_type": "stream",
     "text": [
      "Found 9218 images belonging to 2 classes.\n"
     ]
    },
    {
     "data": {
      "text/plain": [
       "{'fractured': 0, 'unfractured': 1}"
      ]
     },
     "execution_count": 113,
     "metadata": {},
     "output_type": "execute_result"
    }
   ],
   "source": [
    "batch_size = 20\n",
    "train_set = augmented_image_data.flow_from_directory(train_path,\n",
    "                                              target_size=image_shape[:2],\n",
    "                                              color_mode='rgb',\n",
    "                                              batch_size=batch_size,\n",
    "                                              class_mode='binary',\n",
    "                                              shuffle=True\n",
    "                                              )\n",
    "\n",
    "\n",
    "train_set.class_indices"
   ]
  },
  {
   "cell_type": "code",
   "execution_count": 114,
   "metadata": {},
   "outputs": [
    {
     "name": "stdout",
     "output_type": "stream",
     "text": [
      "Found 826 images belonging to 2 classes.\n"
     ]
    },
    {
     "data": {
      "text/plain": [
       "{'fractured': 0, 'unfractured': 1}"
      ]
     },
     "execution_count": 114,
     "metadata": {},
     "output_type": "execute_result"
    }
   ],
   "source": [
    "validation_set = ImageDataGenerator(rescale=1./255).flow_from_directory(val_path,\n",
    "                                                          target_size=image_shape[:2],\n",
    "                                                          color_mode='rgb',\n",
    "                                                          batch_size=batch_size,\n",
    "                                                          class_mode='binary',\n",
    "                                                          shuffle=False\n",
    "                                                          )\n",
    "\n",
    "\n",
    "validation_set.class_indices"
   ]
  },
  {
   "cell_type": "code",
   "execution_count": 115,
   "metadata": {},
   "outputs": [
    {
     "name": "stdout",
     "output_type": "stream",
     "text": [
      "Found 504 images belonging to 2 classes.\n"
     ]
    },
    {
     "data": {
      "text/plain": [
       "{'fractured': 0, 'unfractured': 1}"
      ]
     },
     "execution_count": 115,
     "metadata": {},
     "output_type": "execute_result"
    }
   ],
   "source": [
    "test_set = ImageDataGenerator(rescale=1./255).flow_from_directory(test_path,\n",
    "                                                    target_size=image_shape[:2],\n",
    "                                                    color_mode='rgb',\n",
    "                                                    batch_size=batch_size,\n",
    "                                                    class_mode='binary',\n",
    "                                                    shuffle=False\n",
    "                                                    )\n",
    "\n",
    "\n",
    "test_set.class_indices"
   ]
  },
  {
   "cell_type": "markdown",
   "metadata": {},
   "source": [
    "---"
   ]
  },
  {
   "cell_type": "markdown",
   "metadata": {},
   "source": [
    "# Model creation\n",
    "\n",
    "### Import ML packages"
   ]
  },
  {
   "cell_type": "code",
   "execution_count": 116,
   "metadata": {},
   "outputs": [],
   "source": [
    "from tensorflow.keras.models import Sequential\n",
    "from tensorflow.keras.layers import Activation, Dropout, Flatten, Dense, Conv2D, MaxPooling2D"
   ]
  },
  {
   "cell_type": "markdown",
   "metadata": {},
   "source": [
    "### ML model"
   ]
  },
  {
   "cell_type": "code",
   "execution_count": 117,
   "metadata": {},
   "outputs": [],
   "source": [
    "def create_tf_model():\n",
    "    model = Sequential()\n",
    "\n",
    "    model.add(Conv2D(filters=8, kernel_size=(3, 3), input_shape=image_shape, activation='relu',))\n",
    "    model.add(MaxPooling2D(pool_size=(2, 2)))\n",
    "\n",
    "    model.add(Conv2D(filters=8, kernel_size=(3, 3), input_shape=image_shape, activation='relu',))\n",
    "    model.add(MaxPooling2D(pool_size=(2, 2)))\n",
    "\n",
    "    model.add(Conv2D(filters=16, kernel_size=(3, 3), input_shape=image_shape, activation='relu',))\n",
    "    model.add(MaxPooling2D(pool_size=(2, 2)))\n",
    "\n",
    "    model.add(Flatten())\n",
    "    model.add(Dense(32, activation='relu'))\n",
    "\n",
    "    model.add(Dropout(0.5))\n",
    "    model.add(Dense(1, activation='sigmoid'))\n",
    "\n",
    "    model.compile(loss='binary_crossentropy',\n",
    "                  optimizer='SGD',\n",
    "                  metrics=['accuracy'])\n",
    "    return model"
   ]
  },
  {
   "cell_type": "markdown",
   "metadata": {},
   "source": [
    "### Checks model summary"
   ]
  },
  {
   "cell_type": "code",
   "execution_count": 118,
   "metadata": {},
   "outputs": [
    {
     "name": "stdout",
     "output_type": "stream",
     "text": [
      "Model: \"sequential_9\"\n",
      "_________________________________________________________________\n",
      "Layer (type)                 Output Shape              Param #   \n",
      "=================================================================\n",
      "conv2d_27 (Conv2D)           (None, 288, 271, 8)       224       \n",
      "_________________________________________________________________\n",
      "max_pooling2d_27 (MaxPooling (None, 144, 135, 8)       0         \n",
      "_________________________________________________________________\n",
      "conv2d_28 (Conv2D)           (None, 142, 133, 8)       584       \n",
      "_________________________________________________________________\n",
      "max_pooling2d_28 (MaxPooling (None, 71, 66, 8)         0         \n",
      "_________________________________________________________________\n",
      "conv2d_29 (Conv2D)           (None, 69, 64, 16)        1168      \n",
      "_________________________________________________________________\n",
      "max_pooling2d_29 (MaxPooling (None, 34, 32, 16)        0         \n",
      "_________________________________________________________________\n",
      "flatten_9 (Flatten)          (None, 17408)             0         \n",
      "_________________________________________________________________\n",
      "dense_18 (Dense)             (None, 32)                557088    \n",
      "_________________________________________________________________\n",
      "dropout_9 (Dropout)          (None, 32)                0         \n",
      "_________________________________________________________________\n",
      "dense_19 (Dense)             (None, 1)                 33        \n",
      "=================================================================\n",
      "Total params: 559,097\n",
      "Trainable params: 559,097\n",
      "Non-trainable params: 0\n",
      "_________________________________________________________________\n"
     ]
    }
   ],
   "source": [
    "create_tf_model().summary()"
   ]
  },
  {
   "cell_type": "markdown",
   "metadata": {},
   "source": [
    "### Early Stopping"
   ]
  },
  {
   "cell_type": "code",
   "execution_count": 119,
   "metadata": {},
   "outputs": [],
   "source": [
    "from tensorflow.keras.callbacks import EarlyStopping\n",
    "\n",
    "\n",
    "early_stop = EarlyStopping(monitor='val_loss', patience=3)"
   ]
  },
  {
   "cell_type": "markdown",
   "metadata": {},
   "source": [
    "### Fit model for model training"
   ]
  },
  {
   "cell_type": "code",
   "execution_count": 120,
   "metadata": {},
   "outputs": [
    {
     "name": "stdout",
     "output_type": "stream",
     "text": [
      "Epoch 1/25\n",
      "460/460 [==============================] - 278s 602ms/step - loss: 0.6531 - accuracy: 0.6057 - val_loss: 0.5891 - val_accuracy: 0.7046\n",
      "Epoch 2/25\n",
      "460/460 [==============================] - 277s 601ms/step - loss: 0.5206 - accuracy: 0.7395 - val_loss: 0.5599 - val_accuracy: 0.7554\n",
      "Epoch 3/25\n",
      "460/460 [==============================] - 274s 595ms/step - loss: 0.4158 - accuracy: 0.8146 - val_loss: 0.4498 - val_accuracy: 0.8426\n",
      "Epoch 4/25\n",
      "460/460 [==============================] - 277s 602ms/step - loss: 0.3319 - accuracy: 0.8628 - val_loss: 0.3944 - val_accuracy: 0.8596\n",
      "Epoch 5/25\n",
      "460/460 [==============================] - 277s 602ms/step - loss: 0.2671 - accuracy: 0.8939 - val_loss: 0.3171 - val_accuracy: 0.8777\n",
      "Epoch 6/25\n",
      "460/460 [==============================] - 274s 596ms/step - loss: 0.2177 - accuracy: 0.9163 - val_loss: 0.2579 - val_accuracy: 0.9104\n",
      "Epoch 7/25\n",
      "460/460 [==============================] - 277s 601ms/step - loss: 0.1797 - accuracy: 0.9327 - val_loss: 0.2190 - val_accuracy: 0.9153\n",
      "Epoch 8/25\n",
      "460/460 [==============================] - 275s 598ms/step - loss: 0.1490 - accuracy: 0.9413 - val_loss: 0.1898 - val_accuracy: 0.9189\n",
      "Epoch 9/25\n",
      "460/460 [==============================] - 275s 597ms/step - loss: 0.1231 - accuracy: 0.9510 - val_loss: 0.2099 - val_accuracy: 0.9153\n",
      "Epoch 10/25\n",
      "460/460 [==============================] - 275s 597ms/step - loss: 0.1059 - accuracy: 0.9586 - val_loss: 0.1679 - val_accuracy: 0.9395\n",
      "Epoch 11/25\n",
      "460/460 [==============================] - 276s 600ms/step - loss: 0.0895 - accuracy: 0.9665 - val_loss: 0.1529 - val_accuracy: 0.9358\n",
      "Epoch 12/25\n",
      "460/460 [==============================] - 276s 600ms/step - loss: 0.0800 - accuracy: 0.9697 - val_loss: 0.1249 - val_accuracy: 0.9504\n",
      "Epoch 13/25\n",
      "460/460 [==============================] - 277s 602ms/step - loss: 0.0723 - accuracy: 0.9708 - val_loss: 0.1253 - val_accuracy: 0.9528\n",
      "Epoch 14/25\n",
      "460/460 [==============================] - 277s 602ms/step - loss: 0.0647 - accuracy: 0.9730 - val_loss: 0.1199 - val_accuracy: 0.9552\n",
      "Epoch 15/25\n",
      "460/460 [==============================] - 278s 604ms/step - loss: 0.0606 - accuracy: 0.9756 - val_loss: 0.1172 - val_accuracy: 0.9540\n",
      "Epoch 16/25\n",
      "460/460 [==============================] - 277s 601ms/step - loss: 0.0545 - accuracy: 0.9783 - val_loss: 0.0823 - val_accuracy: 0.9576\n",
      "Epoch 17/25\n",
      "460/460 [==============================] - 274s 597ms/step - loss: 0.0494 - accuracy: 0.9800 - val_loss: 0.0661 - val_accuracy: 0.9709\n",
      "Epoch 18/25\n",
      "460/460 [==============================] - 275s 599ms/step - loss: 0.0451 - accuracy: 0.9796 - val_loss: 0.0882 - val_accuracy: 0.9770\n",
      "Epoch 19/25\n",
      "460/460 [==============================] - 278s 605ms/step - loss: 0.0393 - accuracy: 0.9831 - val_loss: 0.0626 - val_accuracy: 0.9806\n",
      "Epoch 20/25\n",
      "460/460 [==============================] - 276s 601ms/step - loss: 0.0355 - accuracy: 0.9860 - val_loss: 0.0831 - val_accuracy: 0.9576\n",
      "Epoch 21/25\n",
      "460/460 [==============================] - 275s 598ms/step - loss: 0.0396 - accuracy: 0.9823 - val_loss: 0.0837 - val_accuracy: 0.9770\n",
      "Epoch 22/25\n",
      "460/460 [==============================] - 276s 600ms/step - loss: 0.0363 - accuracy: 0.9838 - val_loss: 0.0557 - val_accuracy: 0.9794\n",
      "Epoch 23/25\n",
      "460/460 [==============================] - 274s 597ms/step - loss: 0.0312 - accuracy: 0.9855 - val_loss: 0.0481 - val_accuracy: 0.9782\n",
      "Epoch 24/25\n",
      "460/460 [==============================] - 275s 599ms/step - loss: 0.0326 - accuracy: 0.9848 - val_loss: 0.0674 - val_accuracy: 0.9673\n",
      "Epoch 25/25\n",
      "460/460 [==============================] - 274s 595ms/step - loss: 0.0302 - accuracy: 0.9865 - val_loss: 0.0568 - val_accuracy: 0.9843\n"
     ]
    },
    {
     "data": {
      "text/plain": [
       "<keras.callbacks.History at 0x7f04988b3790>"
      ]
     },
     "execution_count": 120,
     "metadata": {},
     "output_type": "execute_result"
    }
   ],
   "source": [
    "model = create_tf_model()\n",
    "model.fit(train_set,\n",
    "          epochs=25,\n",
    "          steps_per_epoch=len(train_set.classes) // batch_size,\n",
    "          validation_data=validation_set,\n",
    "          callbacks=[early_stop],\n",
    "          verbose=1\n",
    "          )"
   ]
  },
  {
   "cell_type": "markdown",
   "metadata": {},
   "source": [
    "### Save model"
   ]
  },
  {
   "cell_type": "code",
   "execution_count": 121,
   "metadata": {},
   "outputs": [],
   "source": [
    "model.save(f'{file_path}/bone_detector_model.h5')"
   ]
  },
  {
   "cell_type": "markdown",
   "metadata": {},
   "source": [
    "---"
   ]
  },
  {
   "cell_type": "markdown",
   "metadata": {},
   "source": [
    "# Model Performace\n",
    "\n",
    "### Model learning curve"
   ]
  },
  {
   "cell_type": "code",
   "execution_count": 123,
   "metadata": {},
   "outputs": [
    {
     "data": {
      "image/png": "[encoded data removed]",
      "text/plain": [
       "<Figure size 640x480 with 1 Axes>"
      ]
     },
     "metadata": {},
     "output_type": "display_data"
    },
    {
     "data": {
      "image/png": "[encoded data removed]",
      "text/plain": [
       "<Figure size 640x480 with 1 Axes>"
      ]
     },
     "metadata": {},
     "output_type": "display_data"
    }
   ],
   "source": [
    "losses = pd.DataFrame(model.history.history)\n",
    "\n",
    "\n",
    "losses[['loss', 'val_loss']].plot(style='.-')\n",
    "plt.title('Loss')\n",
    "plt.savefig(f'{file_path}/model_training_losses.png', bbox_inches='tight', dpi=150)\n",
    "plt.show()\n",
    "\n",
    "\n",
    "losses[['accuracy', 'val_accuracy']].plot(style='.-')\n",
    "plt.title('Accuracy')\n",
    "plt.savefig(f'{file_path}/model_training_acc.png', bbox_inches='tight', dpi=150)\n",
    "plt.show()"
   ]
  },
  {
   "cell_type": "code",
   "execution_count": 131,
   "metadata": {},
   "outputs": [
    {
     "name": "stdout",
     "output_type": "stream",
     "text": [
      "26/26 [==============================] - 7s 232ms/step - loss: 0.0393 - accuracy: 0.9921\n"
     ]
    }
   ],
   "source": [
    "evaluation = model.evaluate(test_set)"
   ]
  },
  {
   "cell_type": "markdown",
   "metadata": {},
   "source": [
    "---"
   ]
  },
  {
   "cell_type": "markdown",
   "metadata": {},
   "source": [
    "### Model evaluation\n",
    "\n",
    "Load the saved model and import packages"
   ]
  },
  {
   "cell_type": "code",
   "execution_count": 124,
   "metadata": {},
   "outputs": [],
   "source": [
    "import sklearn\n",
    "import sklearn.metrics as metrics\n",
    "from sklearn.metrics import confusion_matrix\n",
    "from keras.models import load_model\n",
    "\n",
    "\n",
    "model = load_model(f'{file_path}/bone_detector_model.h5')"
   ]
  },
  {
   "cell_type": "markdown",
   "metadata": {},
   "source": [
    "Evaluate model on the test set"
   ]
  },
  {
   "cell_type": "code",
   "execution_count": 125,
   "metadata": {},
   "outputs": [
    {
     "name": "stdout",
     "output_type": "stream",
     "text": [
      "26/26 [==============================] - 6s 233ms/step - loss: 0.0393 - accuracy: 0.9921\n"
     ]
    }
   ],
   "source": [
    "evaluation = model.evaluate(test_set)"
   ]
  },
  {
   "cell_type": "markdown",
   "metadata": {},
   "source": [
    "Create a confusion Matrix"
   ]
  },
  {
   "cell_type": "code",
   "execution_count": 126,
   "metadata": {},
   "outputs": [
    {
     "data": {
      "image/png": "[encoded data removed]",
      "text/plain": [
       "<Figure size 800x500 with 2 Axes>"
      ]
     },
     "metadata": {},
     "output_type": "display_data"
    }
   ],
   "source": [
    "validation_set.reset()\n",
    "\n",
    "\n",
    "x_true, y_true = next(test_set)\n",
    "preds = np.argmax(model.predict(test_set), axis=1)\n",
    "y_pred = np.rint(preds)\n",
    "y_true = test_set.labels\n",
    "\n",
    "\n",
    "cm = confusion_matrix(y_true,y_pred)\n",
    "sns_colours = sns.diverging_palette(20, 145, as_cmap=True)\n",
    "\n",
    "\n",
    "classes = list(test_set.class_indices.keys()) \n",
    "length = len(classes)\n",
    "plt.figure(figsize=(8, 5))\n",
    "sns.heatmap(cm, annot=True, vmin=0, fmt='g', cmap=sns_colours)       \n",
    "plt.xticks(np.arange(length) + .5, classes, rotation=0, fontsize=8)\n",
    "plt.yticks(np.arange(length) + .3, classes, rotation=90, fontsize=8)\n",
    "plt.xlabel('Predicted')\n",
    "plt.ylabel('Actual')\n",
    "plt.title('Confusion Matrix')\n",
    "plt.savefig(f'{file_path}/confusion_matrix.png',\n",
    "            bbox_inches='tight', dpi=150)\n",
    "plt.show()"
   ]
  },
  {
   "cell_type": "markdown",
   "metadata": {},
   "source": [
    "Save evaluation pickle"
   ]
  },
  {
   "cell_type": "code",
   "execution_count": 127,
   "metadata": {},
   "outputs": [
    {
     "data": {
      "text/plain": [
       "['outputs/v5/bone_detector_model.h5']"
      ]
     },
     "execution_count": 127,
     "metadata": {},
     "output_type": "execute_result"
    }
   ],
   "source": [
    "joblib.dump(value=evaluation, filename=f'{file_path}/bone_detector_model.h5')"
   ]
  },
  {
   "cell_type": "markdown",
   "metadata": {},
   "source": [
    "---"
   ]
  },
  {
   "cell_type": "markdown",
   "metadata": {},
   "source": [
    "### Predict on new data\n",
    "\n",
    "Load a random image from our dataset."
   ]
  },
  {
   "cell_type": "code",
   "execution_count": 128,
   "metadata": {},
   "outputs": [
    {
     "name": "stdout",
     "output_type": "stream",
     "text": [
      "Image shape: (273, 290), Image mode: RGB\n"
     ]
    },
    {
     "data": {
      "image/jpeg": "[encoded data removed]",
      "image/png": "[encoded data removed]",
      "text/plain": [
       "<PIL.Image.Image image mode=RGB size=273x290>"
      ]
     },
     "execution_count": 128,
     "metadata": {},
     "output_type": "execute_result"
    }
   ],
   "source": [
    "from tensorflow.keras.preprocessing import image\n",
    "\n",
    "\n",
    "pointer = 20\n",
    "label = labels[0]\n",
    "\n",
    "\n",
    "image_file = image.load_img(test_path + '/' + label + '/' + os.listdir(test_path +'/'+ label)[pointer],\n",
    "                          target_size=image_shape, color_mode='rgb')\n",
    "\n",
    "\n",
    "print(f'Image shape: {image_file.size}, Image mode: {image_file.mode}')\n",
    "image_file"
   ]
  },
  {
   "cell_type": "markdown",
   "metadata": {},
   "source": [
    "Convert image to array and prepare for prediction"
   ]
  },
  {
   "cell_type": "code",
   "execution_count": 129,
   "metadata": {},
   "outputs": [
    {
     "name": "stdout",
     "output_type": "stream",
     "text": [
      "(1, 290, 273, 3)\n"
     ]
    }
   ],
   "source": [
    "my_image = image.img_to_array(image_file)\n",
    "my_image = np.expand_dims(my_image, axis=0)\n",
    "print(my_image.shape)"
   ]
  },
  {
   "cell_type": "markdown",
   "metadata": {},
   "source": [
    "Predict class probabilities"
   ]
  },
  {
   "cell_type": "code",
   "execution_count": 130,
   "metadata": {},
   "outputs": [
    {
     "name": "stdout",
     "output_type": "stream",
     "text": [
      "1.0\n",
      "fractured\n"
     ]
    }
   ],
   "source": [
    "pred_proba = model.predict(my_image)[0, 0]\n",
    "target_map = {v: k for k, v in train_set.class_indices.items()}\n",
    "pred_class = target_map[pred_proba > 0.5]  \n",
    "\n",
    "\n",
    "if pred_class == target_map[0]: pred_proba = 1 - pred_proba\n",
    "\n",
    "\n",
    "print(pred_proba)\n",
    "print(pred_class)"
   ]
  },
  {
   "cell_type": "markdown",
   "metadata": {},
   "source": [
    "---"
   ]
  },
  {
   "cell_type": "markdown",
   "metadata": {},
   "source": [
    "# Conclusions and Next Steps\n",
    "\n",
    "- Data augmentation techniques were applied to the images.\n",
    "- The model was developed, trained, and evaluated.\n",
    "- The similar patterns in the validation and training plots indicate that the model is neither underfitting nor overfitting.\n",
    "- The model's prediction accuracy has exceeded the required threshold of 97%.\n",
    "- It can reliably determine whether an image depicts a fractured bone or a healthy bone."
   ]
  }
 ],
 "metadata": {
  "kernelspec": {
   "display_name": "Python 3",
   "language": "python",
   "name": "python3"
  },
  "language_info": {
   "codemirror_mode": {
    "name": "ipython",
    "version": 3
   },
   "file_extension": ".py",
   "mimetype": "text/x-python",
   "name": "python",
   "nbconvert_exporter": "python",
   "pygments_lexer": "ipython3",
   "version": "3.8.18"
  }
 },
 "nbformat": 4,
 "nbformat_minor": 2
}
