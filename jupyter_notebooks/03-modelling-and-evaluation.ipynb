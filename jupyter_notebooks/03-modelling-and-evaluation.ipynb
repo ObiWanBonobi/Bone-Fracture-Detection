{
 "cells": [
  {
   "cell_type": "markdown",
   "metadata": {},
   "source": [
    "# Modeling and Evaluation"
   ]
  },
  {
   "cell_type": "markdown",
   "metadata": {},
   "source": [
    "### Objectives\n",
    "\n",
    "- Answer business requirement 2:\n",
    "    - The client is interested to tell whether a given x-ray image contains a fractured bone or not.\n",
    "\n",
    "### Inputs\n",
    "- inputs/fracture_dataset/bone_fracture/bone_fracture/train\n",
    "- inputs/fracture_dataset/bone_fracture/bone_fracture/val\n",
    "- inputs/fracture_dataset/bone_fracture/bone_fracture/test\n",
    "- image shape embeddings\n",
    "\n",
    "### Outputs\n",
    "- Images distribution plot in train, validation, and test set\n",
    "- Image augmentation\n",
    "- Class indices to change prediction inference in labels\n",
    "- Machine learning model creation and training\n",
    "- Save model\n",
    "- Learning curve plot for model performance\n",
    "- Model evaluation on pickle file\n",
    "- Prediction on the random image file"
   ]
  },
  {
   "cell_type": "markdown",
   "metadata": {},
   "source": [
    "---"
   ]
  },
  {
   "cell_type": "markdown",
   "metadata": {},
   "source": [
    "# Set Data Directory\n",
    "\n",
    "### Import packages"
   ]
  },
  {
   "cell_type": "code",
   "execution_count": 1,
   "metadata": {},
   "outputs": [],
   "source": [
    "import os\n",
    "import pandas as pd\n",
    "import numpy as np\n",
    "import matplotlib.pyplot as plt\n",
    "import seaborn as sns\n",
    "from matplotlib.image import imread"
   ]
  },
  {
   "cell_type": "markdown",
   "metadata": {},
   "source": [
    "### Set Working Directory"
   ]
  },
  {
   "cell_type": "code",
   "execution_count": 2,
   "metadata": {},
   "outputs": [
    {
     "data": {
      "text/plain": [
       "'/workspace/Bone-Fracture-Detection/jupyter_notebooks'"
      ]
     },
     "execution_count": 2,
     "metadata": {},
     "output_type": "execute_result"
    }
   ],
   "source": [
    "current_dir = os.getcwd()\n",
    "current_dir"
   ]
  },
  {
   "cell_type": "code",
   "execution_count": 3,
   "metadata": {},
   "outputs": [],
   "source": [
    "os.chdir('/workspace/Bone-Fracture-Detection')"
   ]
  },
  {
   "cell_type": "code",
   "execution_count": 4,
   "metadata": {},
   "outputs": [
    {
     "data": {
      "text/plain": [
       "'/workspace/Bone-Fracture-Detection'"
      ]
     },
     "execution_count": 4,
     "metadata": {},
     "output_type": "execute_result"
    }
   ],
   "source": [
    "work_dir = os.getcwd()\n",
    "work_dir"
   ]
  },
  {
   "cell_type": "markdown",
   "metadata": {},
   "source": [
    "### Set input directories"
   ]
  },
  {
   "cell_type": "code",
   "execution_count": 5,
   "metadata": {},
   "outputs": [],
   "source": [
    "parent_path = 'inputs/fracture_dataset/bone_fracture/bone_fracture'\n",
    "train_path = parent_path + '/train'\n",
    "val_path = parent_path + '/val'\n",
    "test_path = parent_path + '/test'"
   ]
  },
  {
   "cell_type": "markdown",
   "metadata": {},
   "source": [
    "### Set output directories"
   ]
  },
  {
   "cell_type": "code",
   "execution_count": 6,
   "metadata": {},
   "outputs": [
    {
     "name": "stdout",
     "output_type": "stream",
     "text": [
      "Old version is already available create a new version.\n"
     ]
    }
   ],
   "source": [
    "version = 'v1'\n",
    "file_path = f'outputs/{version}'\n",
    "\n",
    "\n",
    "if 'outputs' in os.listdir(work_dir) and version in os.listdir(work_dir + '/outputs'):\n",
    "\tprint('Old version is already available create a new version.')\n",
    "\tpass\n",
    "else:\n",
    "\tos.makedirs(name = file_path)"
   ]
  },
  {
   "cell_type": "markdown",
   "metadata": {},
   "source": [
    "### Set labels"
   ]
  },
  {
   "cell_type": "code",
   "execution_count": 7,
   "metadata": {},
   "outputs": [
    {
     "name": "stdout",
     "output_type": "stream",
     "text": [
      "Project Labels:  ['fractured', 'unfractured']\n"
     ]
    }
   ],
   "source": [
    "labels = os.listdir(train_path)\n",
    "print('Project Labels: ', labels)"
   ]
  },
  {
   "cell_type": "markdown",
   "metadata": {},
   "source": [
    "### Set image shape"
   ]
  },
  {
   "cell_type": "code",
   "execution_count": 8,
   "metadata": {},
   "outputs": [
    {
     "data": {
      "text/plain": [
       "(290, 273, 3)"
      ]
     },
     "execution_count": 8,
     "metadata": {},
     "output_type": "execute_result"
    }
   ],
   "source": [
    "import joblib\n",
    "\n",
    "\n",
    "version = 'v1'\n",
    "image_shape = joblib.load(filename=f'outputs/{version}/image_shape.pkl')\n",
    "image_shape"
   ]
  },
  {
   "cell_type": "markdown",
   "metadata": {},
   "source": [
    "---"
   ]
  },
  {
   "cell_type": "markdown",
   "metadata": {},
   "source": [
    "# Check if the datasets are imbalanced\n",
    "\n",
    "The datasets look balananced, so we can continue."
   ]
  },
  {
   "cell_type": "code",
   "execution_count": 9,
   "metadata": {},
   "outputs": [
    {
     "name": "stdout",
     "output_type": "stream",
     "text": [
      "* train - fractured: 4593 images\n",
      "* train - unfractured: 4625 images\n",
      "* val - fractured: 336 images\n",
      "* val - unfractured: 490 images\n",
      "* test - fractured: 237 images\n",
      "* test - unfractured: 267 images\n"
     ]
    },
    {
     "data": {
      "image/png": "[encoded data removed]",
      "text/plain": [
       "<Figure size 800x500 with 1 Axes>"
      ]
     },
     "metadata": {},
     "output_type": "display_data"
    }
   ],
   "source": [
    "df_freq = pd.DataFrame([]) \n",
    "for folder in ['train', 'val', 'test']:\n",
    "\tfor label in labels:\n",
    "\t\tdf_freq = df_freq.append(\n",
    "\t\t\t\tpd.Series(data={'Set': folder,\n",
    "\t\t\t\t\t\t\t\t'Label': label,\n",
    "\t\t\t\t\t\t\t\t'Frequency': int(len(os.listdir(parent_path + '/' + folder + '/' + label)))}\n",
    "\t\t\t\t\t\t),\n",
    "\t\t\t\t\t\tignore_index=True\n",
    "\t\t\t\t)\n",
    "\t\tprint(f\"* {folder} - {label}: {len(os.listdir(parent_path + '/' + folder + '/' + label))} images\")\n",
    "\n",
    "\n",
    "plt.figure(figsize=(8,5))\n",
    "sns.barplot(data=df_freq, x='Set', y='Frequency', hue='Label')\n",
    "plt.savefig(f'{file_path}/labels_distribution.png', bbox_inches='tight', dpi=150)\n",
    "plt.show()"
   ]
  },
  {
   "cell_type": "markdown",
   "metadata": {},
   "source": [
    "---"
   ]
  },
  {
   "cell_type": "markdown",
   "metadata": {},
   "source": [
    "# Image data augmentation\n",
    "\n",
    "The dataset contains enough images, so image augmentation isn't needed."
   ]
  },
  {
   "cell_type": "markdown",
   "metadata": {},
   "source": [
    "---"
   ]
  },
  {
   "cell_type": "markdown",
   "metadata": {},
   "source": [
    "# get image class"
   ]
  },
  {
   "cell_type": "code",
   "execution_count": 10,
   "metadata": {},
   "outputs": [],
   "source": [
    "from tensorflow.keras.preprocessing.image import ImageDataGenerator\n",
    "\n",
    "\n",
    "augmented_image_data = ImageDataGenerator(rescale=1./255)"
   ]
  },
  {
   "cell_type": "code",
   "execution_count": 11,
   "metadata": {},
   "outputs": [
    {
     "name": "stdout",
     "output_type": "stream",
     "text": [
      "Found 9218 images belonging to 2 classes.\n"
     ]
    },
    {
     "data": {
      "text/plain": [
       "{'fractured': 0, 'unfractured': 1}"
      ]
     },
     "execution_count": 11,
     "metadata": {},
     "output_type": "execute_result"
    }
   ],
   "source": [
    "batch_size = 20\n",
    "train_set = augmented_image_data.flow_from_directory(train_path,\n",
    "                                              target_size=image_shape[:2],\n",
    "                                              color_mode='rgb',\n",
    "                                              batch_size=batch_size,\n",
    "                                              class_mode='binary',\n",
    "                                              shuffle=True\n",
    "                                              )\n",
    "\n",
    "\n",
    "train_set.class_indices"
   ]
  },
  {
   "cell_type": "code",
   "execution_count": 12,
   "metadata": {},
   "outputs": [
    {
     "name": "stdout",
     "output_type": "stream",
     "text": [
      "Found 826 images belonging to 2 classes.\n"
     ]
    },
    {
     "data": {
      "text/plain": [
       "{'fractured': 0, 'unfractured': 1}"
      ]
     },
     "execution_count": 12,
     "metadata": {},
     "output_type": "execute_result"
    }
   ],
   "source": [
    "validation_set = ImageDataGenerator(rescale=1./255).flow_from_directory(val_path,\n",
    "                                                          target_size=image_shape[:2],\n",
    "                                                          color_mode='rgb',\n",
    "                                                          batch_size=batch_size,\n",
    "                                                          class_mode='binary',\n",
    "                                                          shuffle=False\n",
    "                                                          )\n",
    "\n",
    "\n",
    "validation_set.class_indices"
   ]
  },
  {
   "cell_type": "code",
   "execution_count": 13,
   "metadata": {},
   "outputs": [
    {
     "name": "stdout",
     "output_type": "stream",
     "text": [
      "Found 504 images belonging to 2 classes.\n"
     ]
    },
    {
     "data": {
      "text/plain": [
       "{'fractured': 0, 'unfractured': 1}"
      ]
     },
     "execution_count": 13,
     "metadata": {},
     "output_type": "execute_result"
    }
   ],
   "source": [
    "test_set = ImageDataGenerator(rescale=1./255).flow_from_directory(test_path,\n",
    "                                                    target_size=image_shape[:2],\n",
    "                                                    color_mode='rgb',\n",
    "                                                    batch_size=batch_size,\n",
    "                                                    class_mode='binary',\n",
    "                                                    shuffle=False\n",
    "                                                    )\n",
    "\n",
    "\n",
    "test_set.class_indices"
   ]
  },
  {
   "cell_type": "markdown",
   "metadata": {},
   "source": [
    "---"
   ]
  },
  {
   "cell_type": "markdown",
   "metadata": {},
   "source": [
    "# Model creation\n",
    "\n",
    "### Import ML packages"
   ]
  },
  {
   "cell_type": "code",
   "execution_count": 14,
   "metadata": {},
   "outputs": [],
   "source": [
    "from tensorflow.keras.models import Sequential\n",
    "from tensorflow.keras.layers import Activation, Dropout, Flatten, Dense, Conv2D, MaxPooling2D"
   ]
  },
  {
   "cell_type": "markdown",
   "metadata": {},
   "source": [
    "### ML model"
   ]
  },
  {
   "cell_type": "code",
   "execution_count": 15,
   "metadata": {},
   "outputs": [],
   "source": [
    "def create_tf_model():\n",
    "    model = Sequential()\n",
    "\n",
    "    model.add(Conv2D(filters=8, kernel_size=(3, 3), input_shape=image_shape, activation='relu',))\n",
    "    model.add(MaxPooling2D(pool_size=(2, 2)))\n",
    "\n",
    "    model.add(Conv2D(filters=16, kernel_size=(3, 3), input_shape=image_shape, activation='relu',))\n",
    "    model.add(MaxPooling2D(pool_size=(2, 2)))\n",
    "\n",
    "    model.add(Conv2D(filters=16, kernel_size=(3, 3), input_shape=image_shape, activation='relu',))\n",
    "    model.add(MaxPooling2D(pool_size=(2, 2)))\n",
    "\n",
    "    model.add(Flatten())\n",
    "    model.add(Dense(32, activation='relu'))\n",
    "\n",
    "    model.add(Dropout(0.5))\n",
    "    model.add(Dense(1, activation='sigmoid'))\n",
    "\n",
    "    model.compile(loss='binary_crossentropy',\n",
    "                  optimizer='SGD',\n",
    "                  metrics=['accuracy'])\n",
    "    return model"
   ]
  },
  {
   "cell_type": "markdown",
   "metadata": {},
   "source": [
    "### Checks model summary"
   ]
  },
  {
   "cell_type": "code",
   "execution_count": 16,
   "metadata": {},
   "outputs": [
    {
     "name": "stdout",
     "output_type": "stream",
     "text": [
      "Model: \"sequential\"\n",
      "_________________________________________________________________\n",
      "Layer (type)                 Output Shape              Param #   \n",
      "=================================================================\n",
      "conv2d (Conv2D)              (None, 288, 271, 8)       224       \n",
      "_________________________________________________________________\n",
      "max_pooling2d (MaxPooling2D) (None, 144, 135, 8)       0         \n",
      "_________________________________________________________________\n",
      "conv2d_1 (Conv2D)            (None, 142, 133, 16)      1168      \n",
      "_________________________________________________________________\n",
      "max_pooling2d_1 (MaxPooling2 (None, 71, 66, 16)        0         \n",
      "_________________________________________________________________\n",
      "conv2d_2 (Conv2D)            (None, 69, 64, 16)        2320      \n",
      "_________________________________________________________________\n",
      "max_pooling2d_2 (MaxPooling2 (None, 34, 32, 16)        0         \n",
      "_________________________________________________________________\n",
      "flatten (Flatten)            (None, 17408)             0         \n",
      "_________________________________________________________________\n",
      "dense (Dense)                (None, 32)                557088    \n",
      "_________________________________________________________________\n",
      "dropout (Dropout)            (None, 32)                0         \n",
      "_________________________________________________________________\n",
      "dense_1 (Dense)              (None, 1)                 33        \n",
      "=================================================================\n",
      "Total params: 560,833\n",
      "Trainable params: 560,833\n",
      "Non-trainable params: 0\n",
      "_________________________________________________________________\n"
     ]
    },
    {
     "name": "stderr",
     "output_type": "stream",
     "text": [
      "2024-06-24 16:46:04.442594: I tensorflow/core/platform/cpu_feature_guard.cc:142] This TensorFlow binary is optimized with oneAPI Deep Neural Network Library (oneDNN) to use the following CPU instructions in performance-critical operations:  AVX2 AVX512F FMA\n",
      "To enable them in other operations, rebuild TensorFlow with the appropriate compiler flags.\n"
     ]
    }
   ],
   "source": [
    "create_tf_model().summary()"
   ]
  },
  {
   "cell_type": "markdown",
   "metadata": {},
   "source": [
    "### Early Stopping"
   ]
  },
  {
   "cell_type": "code",
   "execution_count": 17,
   "metadata": {},
   "outputs": [],
   "source": [
    "from tensorflow.keras.callbacks import EarlyStopping\n",
    "\n",
    "\n",
    "early_stop = EarlyStopping(monitor='val_loss', patience=3)"
   ]
  },
  {
   "cell_type": "markdown",
   "metadata": {},
   "source": [
    "### Fit model for model training"
   ]
  },
  {
   "cell_type": "code",
   "execution_count": 18,
   "metadata": {},
   "outputs": [
    {
     "name": "stderr",
     "output_type": "stream",
     "text": [
      "2024-06-24 16:46:11.974199: I tensorflow/compiler/mlir/mlir_graph_optimization_pass.cc:185] None of the MLIR Optimization Passes are enabled (registered 2)\n"
     ]
    },
    {
     "name": "stdout",
     "output_type": "stream",
     "text": [
      "Epoch 1/25\n",
      "460/460 [==============================] - 297s 644ms/step - loss: 0.6088 - accuracy: 0.6522 - val_loss: 0.5426 - val_accuracy: 0.7312\n",
      "Epoch 2/25\n",
      "460/460 [==============================] - 293s 637ms/step - loss: 0.4854 - accuracy: 0.7594 - val_loss: 0.4486 - val_accuracy: 0.8087\n",
      "Epoch 3/25\n",
      "460/460 [==============================] - 292s 635ms/step - loss: 0.4046 - accuracy: 0.8079 - val_loss: 0.4264 - val_accuracy: 0.8136\n",
      "Epoch 4/25\n",
      "460/460 [==============================] - 291s 633ms/step - loss: 0.3367 - accuracy: 0.8469 - val_loss: 0.3406 - val_accuracy: 0.8511\n",
      "Epoch 5/25\n",
      "460/460 [==============================] - 290s 629ms/step - loss: 0.2801 - accuracy: 0.8789 - val_loss: 0.2940 - val_accuracy: 0.8741\n",
      "Epoch 6/25\n",
      "460/460 [==============================] - 288s 625ms/step - loss: 0.2302 - accuracy: 0.9039 - val_loss: 0.2169 - val_accuracy: 0.9165\n",
      "Epoch 7/25\n",
      "460/460 [==============================] - 287s 625ms/step - loss: 0.1848 - accuracy: 0.9257 - val_loss: 0.2177 - val_accuracy: 0.9249\n",
      "Epoch 8/25\n",
      "460/460 [==============================] - 284s 617ms/step - loss: 0.1523 - accuracy: 0.9361 - val_loss: 0.1585 - val_accuracy: 0.9274\n",
      "Epoch 9/25\n",
      "460/460 [==============================] - 285s 620ms/step - loss: 0.1183 - accuracy: 0.9511 - val_loss: 0.1337 - val_accuracy: 0.9443\n",
      "Epoch 10/25\n",
      "460/460 [==============================] - 286s 621ms/step - loss: 0.1022 - accuracy: 0.9551 - val_loss: 0.1207 - val_accuracy: 0.9528\n",
      "Epoch 11/25\n",
      "460/460 [==============================] - 284s 617ms/step - loss: 0.0943 - accuracy: 0.9599 - val_loss: 0.1079 - val_accuracy: 0.9637\n",
      "Epoch 12/25\n",
      "460/460 [==============================] - 285s 620ms/step - loss: 0.0812 - accuracy: 0.9636 - val_loss: 0.1219 - val_accuracy: 0.9467\n",
      "Epoch 13/25\n",
      "460/460 [==============================] - 289s 629ms/step - loss: 0.0676 - accuracy: 0.9688 - val_loss: 0.0911 - val_accuracy: 0.9637\n",
      "Epoch 14/25\n",
      "460/460 [==============================] - 287s 623ms/step - loss: 0.0600 - accuracy: 0.9746 - val_loss: 0.0909 - val_accuracy: 0.9649\n",
      "Epoch 15/25\n",
      "460/460 [==============================] - 284s 618ms/step - loss: 0.0621 - accuracy: 0.9696 - val_loss: 0.0685 - val_accuracy: 0.9722\n",
      "Epoch 16/25\n",
      "460/460 [==============================] - 285s 619ms/step - loss: 0.0535 - accuracy: 0.9762 - val_loss: 0.0772 - val_accuracy: 0.9722\n",
      "Epoch 17/25\n",
      "460/460 [==============================] - 286s 621ms/step - loss: 0.0519 - accuracy: 0.9772 - val_loss: 0.0958 - val_accuracy: 0.9697\n",
      "Epoch 18/25\n",
      "460/460 [==============================] - 285s 620ms/step - loss: 0.0399 - accuracy: 0.9796 - val_loss: 0.0607 - val_accuracy: 0.9758\n",
      "Epoch 19/25\n",
      "460/460 [==============================] - 283s 615ms/step - loss: 0.0371 - accuracy: 0.9803 - val_loss: 0.0672 - val_accuracy: 0.9818\n",
      "Epoch 20/25\n",
      "460/460 [==============================] - 285s 619ms/step - loss: 0.0385 - accuracy: 0.9804 - val_loss: 0.0788 - val_accuracy: 0.9794\n",
      "Epoch 21/25\n",
      "460/460 [==============================] - 275s 597ms/step - loss: 0.0366 - accuracy: 0.9835 - val_loss: 0.0509 - val_accuracy: 0.9891\n",
      "Epoch 22/25\n",
      "460/460 [==============================] - 287s 624ms/step - loss: 0.0396 - accuracy: 0.9806 - val_loss: 0.0865 - val_accuracy: 0.9697\n",
      "Epoch 23/25\n",
      "460/460 [==============================] - 287s 623ms/step - loss: 0.0352 - accuracy: 0.9829 - val_loss: 0.0572 - val_accuracy: 0.9891\n",
      "Epoch 24/25\n",
      "460/460 [==============================] - 282s 614ms/step - loss: 0.0328 - accuracy: 0.9838 - val_loss: 0.0522 - val_accuracy: 0.9770\n"
     ]
    },
    {
     "data": {
      "text/plain": [
       "<keras.callbacks.History at 0x7fb0da1a7e80>"
      ]
     },
     "execution_count": 18,
     "metadata": {},
     "output_type": "execute_result"
    }
   ],
   "source": [
    "model = create_tf_model()\n",
    "model.fit(train_set,\n",
    "          epochs=25,\n",
    "          steps_per_epoch=len(train_set.classes) // batch_size,\n",
    "          validation_data=validation_set,\n",
    "          callbacks=[early_stop],\n",
    "          verbose=1\n",
    "          )"
   ]
  },
  {
   "cell_type": "markdown",
   "metadata": {},
   "source": [
    "### Save model"
   ]
  },
  {
   "cell_type": "code",
   "execution_count": 23,
   "metadata": {},
   "outputs": [],
   "source": [
    "model.save('outputs/v1/bone_detector_model_sgd.h5')"
   ]
  },
  {
   "cell_type": "markdown",
   "metadata": {},
   "source": [
    "---"
   ]
  },
  {
   "cell_type": "code",
   "execution_count": null,
   "metadata": {},
   "outputs": [],
   "source": []
  }
 ],
 "metadata": {
  "kernelspec": {
   "display_name": "Python 3",
   "language": "python",
   "name": "python3"
  },
  "language_info": {
   "codemirror_mode": {
    "name": "ipython",
    "version": 3
   },
   "file_extension": ".py",
   "mimetype": "text/x-python",
   "name": "python",
   "nbconvert_exporter": "python",
   "pygments_lexer": "ipython3",
   "version": "3.8.18"
  }
 },
 "nbformat": 4,
 "nbformat_minor": 2
}
